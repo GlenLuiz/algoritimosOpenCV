{
  "nbformat": 4,
  "nbformat_minor": 0,
  "metadata": {
    "colab": {
      "name": "EigenFaces.ipynb",
      "provenance": [],
      "collapsed_sections": [],
      "authorship_tag": "ABX9TyPYNXKk4D32kbaJpc7/aRQe",
      "include_colab_link": true
    },
    "kernelspec": {
      "name": "python3",
      "display_name": "Python 3"
    },
    "language_info": {
      "name": "python"
    }
  },
  "cells": [
    {
      "cell_type": "markdown",
      "metadata": {
        "id": "view-in-github",
        "colab_type": "text"
      },
      "source": [
        "<a href=\"https://colab.research.google.com/github/GlenLuiz/algoritimosOpenCV/blob/master/EigenFaces.ipynb\" target=\"_parent\"><img src=\"https://colab.research.google.com/assets/colab-badge.svg\" alt=\"Open In Colab\"/></a>"
      ]
    },
    {
      "cell_type": "markdown",
      "metadata": {
        "id": "Cr9gWiDB_wB3"
      },
      "source": [
        "# Criador de classificador Eigenfaces \n",
        "\n"
      ]
    },
    {
      "cell_type": "code",
      "metadata": {
        "colab": {
          "base_uri": "https://localhost:8080/"
        },
        "id": "YSDjx-53CcJY",
        "outputId": "0b9e99c1-73a1-4c19-e8a5-225cc41b4475"
      },
      "source": [
        "pip install opencv_contrib_python"
      ],
      "execution_count": null,
      "outputs": [
        {
          "output_type": "stream",
          "name": "stdout",
          "text": [
            "Requirement already satisfied: opencv_contrib_python in /usr/local/lib/python3.7/dist-packages (4.5.4.58)\n",
            "Requirement already satisfied: numpy>=1.14.5 in /usr/local/lib/python3.7/dist-packages (from opencv_contrib_python) (1.19.5)\n"
          ]
        }
      ]
    },
    {
      "cell_type": "code",
      "metadata": {
        "colab": {
          "base_uri": "https://localhost:8080/"
        },
        "id": "xu3BCAyAM0DX",
        "outputId": "2ddf8bcb-a703-4810-edaa-1dae73858019"
      },
      "source": [
        "from google.colab import drive\n",
        "drive.mount('/content/gdrive')"
      ],
      "execution_count": null,
      "outputs": [
        {
          "output_type": "stream",
          "name": "stdout",
          "text": [
            "Drive already mounted at /content/gdrive; to attempt to forcibly remount, call drive.mount(\"/content/gdrive\", force_remount=True).\n"
          ]
        }
      ]
    },
    {
      "cell_type": "code",
      "metadata": {
        "id": "P6pWJ_lxCe1X"
      },
      "source": [
        "import cv2\n",
        "import imageio\n",
        "import os\n",
        "import numpy as np\n",
        "from google.colab import drive\n",
        "\n"
      ],
      "execution_count": null,
      "outputs": []
    },
    {
      "cell_type": "code",
      "metadata": {
        "id": "XhDghYihCrc0"
      },
      "source": [
        "eigenfaces = cv2.face.EigenFaceRecognizer_create()"
      ],
      "execution_count": null,
      "outputs": []
    },
    {
      "cell_type": "code",
      "metadata": {
        "id": "6iA_UX-6Nwe_"
      },
      "source": [
        "path = 'gdrive/My Drive/AlgoritimosOpencv'\n"
      ],
      "execution_count": null,
      "outputs": []
    },
    {
      "cell_type": "code",
      "metadata": {
        "id": "w-bgm0JGD8q9"
      },
      "source": [
        "def getImage():\n",
        "    caminho = [os.path.join(path, f) for f in os.listdir(path)]\n",
        "    faces = []\n",
        "    ids = []\n",
        "    for caminhoImg in caminho:\n",
        "      imagemFace = cv2.cvtColor(cv2.imread(caminhoImg), cv2.COLOR_BGR2GRAY)\n",
        "      id = int(os.path.split(caminhoImg)[-1].split('.')[1])\n",
        "      #print(id)\n",
        "      ids.append(id)\n",
        "      faces.append(imagemFace)\n",
        "    return np.array(ids), faces"
      ],
      "execution_count": null,
      "outputs": []
    },
    {
      "cell_type": "code",
      "metadata": {
        "id": "HwCQ3BhxNNAg"
      },
      "source": [
        "ids, faces = getImage()\n"
      ],
      "execution_count": null,
      "outputs": []
    },
    {
      "cell_type": "code",
      "metadata": {
        "colab": {
          "base_uri": "https://localhost:8080/"
        },
        "id": "8DfQxD7sRbR-",
        "outputId": "4e0e4d2d-7da0-4cfb-a114-4a54b1347be2"
      },
      "source": [
        "print(ids)"
      ],
      "execution_count": null,
      "outputs": [
        {
          "output_type": "stream",
          "name": "stdout",
          "text": [
            "[1 1 1 1 2 2 2 2]\n"
          ]
        }
      ]
    },
    {
      "cell_type": "code",
      "metadata": {
        "colab": {
          "base_uri": "https://localhost:8080/"
        },
        "id": "TPIlEIntRfbK",
        "outputId": "f45f21df-36d4-431f-a6fc-a9983ad1e3e9"
      },
      "source": [
        "print(faces)"
      ],
      "execution_count": null,
      "outputs": [
        {
          "output_type": "stream",
          "name": "stdout",
          "text": [
            "[array([[205, 206, 207, ..., 230, 230, 231],\n",
            "       [205, 206, 207, ..., 230, 230, 231],\n",
            "       [205, 206, 207, ..., 227, 227, 228],\n",
            "       ...,\n",
            "       [145, 156, 186, ...,  72,  79,  67],\n",
            "       [145, 160, 190, ...,  61,  75,  71],\n",
            "       [133, 155, 179, ...,  51,  65,  69]], dtype=uint8), array([[196, 193, 193, ..., 237, 237, 236],\n",
            "       [194, 193, 194, ..., 238, 238, 237],\n",
            "       [193, 193, 193, ..., 238, 238, 237],\n",
            "       ...,\n",
            "       [ 31,  24,  23, ...,  34,  31,  33],\n",
            "       [ 28,  23,  23, ...,  32,  28,  30],\n",
            "       [ 43,  36,  36, ...,  31,  29,  33]], dtype=uint8), array([[212, 209, 209, ..., 218, 218, 221],\n",
            "       [208, 205, 204, ..., 215, 215, 218],\n",
            "       [209, 205, 204, ..., 216, 216, 220],\n",
            "       ...,\n",
            "       [163, 182, 187, ...,  43,  44,  57],\n",
            "       [167, 182, 187, ...,  42,  41,  52],\n",
            "       [177, 188, 190, ...,  55,  55,  70]], dtype=uint8), array([[215, 215, 215, ..., 229, 229, 230],\n",
            "       [216, 216, 216, ..., 229, 229, 229],\n",
            "       [216, 216, 216, ..., 229, 229, 229],\n",
            "       ...,\n",
            "       [ 51,  43,  43, ...,  51,  50,  50],\n",
            "       [ 47,  40,  40, ...,  49,  48,  48],\n",
            "       [ 57,  48,  47, ...,  48,  47,  49]], dtype=uint8), array([[165, 160, 157, ..., 166, 165, 164],\n",
            "       [165, 169, 171, ..., 165, 166, 164],\n",
            "       [161, 170, 171, ..., 163, 166, 164],\n",
            "       ...,\n",
            "       [ 13,  14,  13, ...,   6,   6,  14],\n",
            "       [ 12,  11,   9, ...,   5,   6,  13],\n",
            "       [  9,   9,   7, ...,  14,  16,  23]], dtype=uint8), array([[173, 172, 173, ..., 162, 162, 163],\n",
            "       [172, 172, 173, ..., 161, 161, 161],\n",
            "       [171, 171, 171, ..., 162, 162, 160],\n",
            "       ...,\n",
            "       [ 14,   9,  14, ...,   8,  11,  16],\n",
            "       [ 14,  12,  15, ...,   9,  13,  13],\n",
            "       [ 14,  12,  14, ...,   7,  13,  18]], dtype=uint8), array([[120,  39,  31, ..., 161, 160, 161],\n",
            "       [ 47,  16,  20, ..., 162, 160, 161],\n",
            "       [ 33,  17,  18, ..., 161, 162, 160],\n",
            "       ...,\n",
            "       [ 10,  14,  12, ..., 149, 147, 139],\n",
            "       [ 10,  10,   8, ..., 147, 146, 137],\n",
            "       [ 10,   9,   8, ..., 136, 138, 128]], dtype=uint8), array([[175, 177, 175, ..., 165, 165, 170],\n",
            "       [176, 175, 174, ..., 160, 161, 164],\n",
            "       [175, 174, 174, ..., 159, 160, 166],\n",
            "       ...,\n",
            "       [ 10,  10,   9, ...,  22,  52,  53],\n",
            "       [ 11,  11,  10, ...,  13,  48,  55],\n",
            "       [ 21,  19,  21, ...,  10,  42,  59]], dtype=uint8)]\n"
          ]
        }
      ]
    },
    {
      "cell_type": "markdown",
      "metadata": {
        "id": "ftUzt4ckbX9-"
      },
      "source": [
        "Gerando classificador"
      ]
    },
    {
      "cell_type": "code",
      "metadata": {
        "id": "t8rkElXmRn5P"
      },
      "source": [
        "eigenfaces.train(faces, ids)\n",
        "eigenfaces.write('classEigen.yml')"
      ],
      "execution_count": null,
      "outputs": []
    }
  ]
}